{
 "cells": [
  {
   "cell_type": "code",
   "execution_count": 2,
   "metadata": {},
   "outputs": [],
   "source": [
    "import pandas as pd\n",
    "from vaderSentiment.vaderSentiment import SentimentIntensityAnalyzer\n",
    "\n",
    "import string\n",
    "import re\n",
    "\n",
    "import seaborn as sns\n",
    "import matplotlib.pyplot as plt\n",
    "\n",
    "from gensim.models.fasttext import FastText\n",
    "import numpy as np\n",
    "import hdbscan\n",
    "import pickle\n",
    "from sklearn.feature_extraction.text import TfidfVectorizer\n",
    "from sklearn.feature_extraction import text"
   ]
  },
  {
   "cell_type": "code",
   "execution_count": 3,
   "metadata": {},
   "outputs": [],
   "source": [
    "reviews = pd.read_csv(\"../project_data/reviews_for_vader.csv\").drop('Unnamed: 0', axis=1)\n",
    "#products = pd.read_csv(\"../project_data/products_clean.csv\").drop('Unnamed: 0', axis=1)\n",
    "sentiment = SentimentIntensityAnalyzer()"
   ]
  },
  {
   "cell_type": "markdown",
   "metadata": {},
   "source": [
    "## Final Data Preparation\n",
    "#### 1. VADER compund scores"
   ]
  },
  {
   "cell_type": "code",
   "execution_count": 5,
   "metadata": {},
   "outputs": [],
   "source": [
    "# removing new line characters \n",
    "def preprocess(text):\n",
    "    text = text.replace('\\n', ' ')\n",
    "    return text\n",
    "\n",
    "reviews['reviewText'] = reviews['reviewText'].apply(preprocess)"
   ]
  },
  {
   "cell_type": "code",
   "execution_count": 99,
   "metadata": {},
   "outputs": [],
   "source": [
    "# apply VADER sentiment scoring to reviews\n",
    "reviews['sentiment'] = reviews['reviewText'].apply(lambda text : sentiment.polarity_scores(text))"
   ]
  },
  {
   "cell_type": "code",
   "execution_count": 7,
   "metadata": {},
   "outputs": [
    {
     "data": {
      "text/html": [
       "<div>\n",
       "<style scoped>\n",
       "    .dataframe tbody tr th:only-of-type {\n",
       "        vertical-align: middle;\n",
       "    }\n",
       "\n",
       "    .dataframe tbody tr th {\n",
       "        vertical-align: top;\n",
       "    }\n",
       "\n",
       "    .dataframe thead th {\n",
       "        text-align: right;\n",
       "    }\n",
       "</style>\n",
       "<table border=\"1\" class=\"dataframe\">\n",
       "  <thead>\n",
       "    <tr style=\"text-align: right;\">\n",
       "      <th></th>\n",
       "      <th>reviewText</th>\n",
       "      <th>sentiment</th>\n",
       "    </tr>\n",
       "  </thead>\n",
       "  <tbody>\n",
       "    <tr>\n",
       "      <th>0</th>\n",
       "      <td>Positives: Comfortable chair, and a fairly goo...</td>\n",
       "      <td>{'neg': 0.03, 'neu': 0.795, 'pos': 0.176, 'com...</td>\n",
       "    </tr>\n",
       "    <tr>\n",
       "      <th>1</th>\n",
       "      <td>While this chair is very nice, unfortunately, ...</td>\n",
       "      <td>{'neg': 0.066, 'neu': 0.837, 'pos': 0.097, 'co...</td>\n",
       "    </tr>\n",
       "    <tr>\n",
       "      <th>2</th>\n",
       "      <td>Great chair. I had one for about 8 years and d...</td>\n",
       "      <td>{'neg': 0.064, 'neu': 0.849, 'pos': 0.087, 'co...</td>\n",
       "    </tr>\n",
       "    <tr>\n",
       "      <th>3</th>\n",
       "      <td>As I spent a great deal of time at my desk, I ...</td>\n",
       "      <td>{'neg': 0.028, 'neu': 0.699, 'pos': 0.272, 'co...</td>\n",
       "    </tr>\n",
       "    <tr>\n",
       "      <th>4</th>\n",
       "      <td>Chairs are very individual.  This one is not c...</td>\n",
       "      <td>{'neg': 0.034, 'neu': 0.828, 'pos': 0.137, 'co...</td>\n",
       "    </tr>\n",
       "  </tbody>\n",
       "</table>\n",
       "</div>"
      ],
      "text/plain": [
       "                                          reviewText  \\\n",
       "0  Positives: Comfortable chair, and a fairly goo...   \n",
       "1  While this chair is very nice, unfortunately, ...   \n",
       "2  Great chair. I had one for about 8 years and d...   \n",
       "3  As I spent a great deal of time at my desk, I ...   \n",
       "4  Chairs are very individual.  This one is not c...   \n",
       "\n",
       "                                           sentiment  \n",
       "0  {'neg': 0.03, 'neu': 0.795, 'pos': 0.176, 'com...  \n",
       "1  {'neg': 0.066, 'neu': 0.837, 'pos': 0.097, 'co...  \n",
       "2  {'neg': 0.064, 'neu': 0.849, 'pos': 0.087, 'co...  \n",
       "3  {'neg': 0.028, 'neu': 0.699, 'pos': 0.272, 'co...  \n",
       "4  {'neg': 0.034, 'neu': 0.828, 'pos': 0.137, 'co...  "
      ]
     },
     "execution_count": 7,
     "metadata": {},
     "output_type": "execute_result"
    }
   ],
   "source": [
    "# sample of reviews with vader scores\n",
    "reviews[[\"reviewText\",\"sentiment\"]].head()"
   ]
  },
  {
   "cell_type": "code",
   "execution_count": 8,
   "metadata": {},
   "outputs": [
    {
     "data": {
      "text/plain": [
       "0.9649"
      ]
     },
     "execution_count": 8,
     "metadata": {},
     "output_type": "execute_result"
    }
   ],
   "source": [
    "# sample of single compound sentiment score\n",
    "reviews[\"sentiment\"][0].get(\"compound\")"
   ]
  },
  {
   "cell_type": "code",
   "execution_count": 9,
   "metadata": {},
   "outputs": [],
   "source": [
    "# function to normalize VADER compound scores to compare to customer rating\n",
    "\n",
    "def transform_vader(score):\n",
    "    limits = [-1,-0.6,-0.2,0.2,0.6,1]\n",
    "\n",
    "    for i in range(1, len(limits)):\n",
    "        if limits[i-1] <= score < limits[i]:\n",
    "            return i\n",
    "    if score == 1:\n",
    "        return 5\n",
    "    elif score == -1:\n",
    "        return 1\n",
    "    \n",
    "    return None\n"
   ]
  },
  {
   "cell_type": "code",
   "execution_count": 10,
   "metadata": {},
   "outputs": [],
   "source": [
    "# function to feed VADER compound scores into normalization function\n",
    "\n",
    "def compound_to_norm(dict):\n",
    "    score = dict.get('compound')\n",
    "    return transform_vader(score)*1.0"
   ]
  },
  {
   "cell_type": "code",
   "execution_count": 11,
   "metadata": {},
   "outputs": [],
   "source": [
    "reviews['vader_norm_scores'] = reviews['sentiment'].apply(lambda x: compound_to_norm(x))"
   ]
  },
  {
   "cell_type": "code",
   "execution_count": 12,
   "metadata": {},
   "outputs": [
    {
     "data": {
      "text/html": [
       "<div>\n",
       "<style scoped>\n",
       "    .dataframe tbody tr th:only-of-type {\n",
       "        vertical-align: middle;\n",
       "    }\n",
       "\n",
       "    .dataframe tbody tr th {\n",
       "        vertical-align: top;\n",
       "    }\n",
       "\n",
       "    .dataframe thead th {\n",
       "        text-align: right;\n",
       "    }\n",
       "</style>\n",
       "<table border=\"1\" class=\"dataframe\">\n",
       "  <thead>\n",
       "    <tr style=\"text-align: right;\">\n",
       "      <th></th>\n",
       "      <th>asin</th>\n",
       "      <th>reviewerID</th>\n",
       "      <th>overall</th>\n",
       "      <th>summary</th>\n",
       "      <th>reviewText</th>\n",
       "      <th>sentiment</th>\n",
       "      <th>vader_norm_scores</th>\n",
       "    </tr>\n",
       "  </thead>\n",
       "  <tbody>\n",
       "    <tr>\n",
       "      <th>0</th>\n",
       "      <td>B00006GNTW</td>\n",
       "      <td>A42S4C3S6QJZ</td>\n",
       "      <td>4.0</td>\n",
       "      <td>In which an office chair is reviewed</td>\n",
       "      <td>Positives: Comfortable chair, and a fairly goo...</td>\n",
       "      <td>{'neg': 0.03, 'neu': 0.795, 'pos': 0.176, 'com...</td>\n",
       "      <td>5.0</td>\n",
       "    </tr>\n",
       "    <tr>\n",
       "      <th>1</th>\n",
       "      <td>B00006GNTW</td>\n",
       "      <td>A1H3VC2Y9GIJVM</td>\n",
       "      <td>3.0</td>\n",
       "      <td>Doesn't feel like a HON!!!</td>\n",
       "      <td>While this chair is very nice, unfortunately, ...</td>\n",
       "      <td>{'neg': 0.066, 'neu': 0.837, 'pos': 0.097, 'co...</td>\n",
       "      <td>5.0</td>\n",
       "    </tr>\n",
       "    <tr>\n",
       "      <th>2</th>\n",
       "      <td>B00006GNTW</td>\n",
       "      <td>A3DF1AE47RDU7B</td>\n",
       "      <td>5.0</td>\n",
       "      <td>Best chair you can buy</td>\n",
       "      <td>Great chair. I had one for about 8 years and d...</td>\n",
       "      <td>{'neg': 0.064, 'neu': 0.849, 'pos': 0.087, 'co...</td>\n",
       "      <td>3.0</td>\n",
       "    </tr>\n",
       "    <tr>\n",
       "      <th>3</th>\n",
       "      <td>B00006GNTW</td>\n",
       "      <td>A3RN703LRMI84G</td>\n",
       "      <td>5.0</td>\n",
       "      <td>A happy purchase</td>\n",
       "      <td>As I spent a great deal of time at my desk, I ...</td>\n",
       "      <td>{'neg': 0.028, 'neu': 0.699, 'pos': 0.272, 'co...</td>\n",
       "      <td>5.0</td>\n",
       "    </tr>\n",
       "    <tr>\n",
       "      <th>4</th>\n",
       "      <td>B00006GNTW</td>\n",
       "      <td>A1F0ITW7KPUKQI</td>\n",
       "      <td>1.0</td>\n",
       "      <td>Not Comfortable For Me</td>\n",
       "      <td>Chairs are very individual.  This one is not c...</td>\n",
       "      <td>{'neg': 0.034, 'neu': 0.828, 'pos': 0.137, 'co...</td>\n",
       "      <td>5.0</td>\n",
       "    </tr>\n",
       "  </tbody>\n",
       "</table>\n",
       "</div>"
      ],
      "text/plain": [
       "         asin      reviewerID  overall                               summary  \\\n",
       "0  B00006GNTW    A42S4C3S6QJZ      4.0  In which an office chair is reviewed   \n",
       "1  B00006GNTW  A1H3VC2Y9GIJVM      3.0            Doesn't feel like a HON!!!   \n",
       "2  B00006GNTW  A3DF1AE47RDU7B      5.0                Best chair you can buy   \n",
       "3  B00006GNTW  A3RN703LRMI84G      5.0                      A happy purchase   \n",
       "4  B00006GNTW  A1F0ITW7KPUKQI      1.0                Not Comfortable For Me   \n",
       "\n",
       "                                          reviewText  \\\n",
       "0  Positives: Comfortable chair, and a fairly goo...   \n",
       "1  While this chair is very nice, unfortunately, ...   \n",
       "2  Great chair. I had one for about 8 years and d...   \n",
       "3  As I spent a great deal of time at my desk, I ...   \n",
       "4  Chairs are very individual.  This one is not c...   \n",
       "\n",
       "                                           sentiment  vader_norm_scores  \n",
       "0  {'neg': 0.03, 'neu': 0.795, 'pos': 0.176, 'com...                5.0  \n",
       "1  {'neg': 0.066, 'neu': 0.837, 'pos': 0.097, 'co...                5.0  \n",
       "2  {'neg': 0.064, 'neu': 0.849, 'pos': 0.087, 'co...                3.0  \n",
       "3  {'neg': 0.028, 'neu': 0.699, 'pos': 0.272, 'co...                5.0  \n",
       "4  {'neg': 0.034, 'neu': 0.828, 'pos': 0.137, 'co...                5.0  "
      ]
     },
     "execution_count": 12,
     "metadata": {},
     "output_type": "execute_result"
    }
   ],
   "source": [
    "reviews.head()"
   ]
  },
  {
   "cell_type": "markdown",
   "metadata": {},
   "source": [
    "#### 2. text preprocessing"
   ]
  },
  {
   "cell_type": "code",
   "execution_count": 13,
   "metadata": {},
   "outputs": [],
   "source": [
    "# text preprocessing for vectorization with fasttext. case normalization, punctuation, and number removal\n",
    "def preprocess(text):\n",
    "    text = text.translate(str.maketrans('','', string.punctuation))\n",
    "    text = re.sub(r'\\d+','',text)\n",
    "    text = text.lower()\n",
    "    text = re.sub(' +',' ', text)\n",
    "    text = text.strip()\n",
    "    if len(text) > 0:\n",
    "        return text\n",
    "    return None"
   ]
  },
  {
   "cell_type": "code",
   "execution_count": 46,
   "metadata": {},
   "outputs": [],
   "source": [
    "# preprocessing and removing rows which now have a null value in 'reviewText_clean' after preprocessing\n",
    "\n",
    "reviews['reviewText_clean_withstpwrds'] = reviews['reviewText'].apply(lambda text: preprocess(text))\n",
    "\n",
    "reviews.dropna(subset=['reviewText_clean_withstpwrds'], inplace=True)\n",
    "\n",
    "reviews.reset_index(inplace=True)\n"
   ]
  },
  {
   "cell_type": "code",
   "execution_count": 76,
   "metadata": {},
   "outputs": [],
   "source": [
    "# adding column with no stopwords\n",
    "\n",
    "from nltk.corpus import stopwords\n",
    "\n",
    "def remove_stopwords(text):\n",
    "    nltk_stpwrds = stopwords.words('english')\n",
    "    addl_stpwrds = ['chair','chairs']\n",
    "    stop_words = set(nltk_stpwrds+addl_stpwrds)\n",
    "    words = [word for word in text.split() if word not in stop_words]\n",
    "    return ' '.join(words)\n",
    "\n",
    "reviews['reviewText_clean_nostpwrds'] = reviews['reviewText_clean_withstpwrds'].apply(lambda text: remove_stopwords(text))\n",
    "reviews.dropna(subset=['reviewText_clean_nostpwrds'], inplace=True)\n",
    "\n",
    "#reviews.reset_index(inplace=True)"
   ]
  },
  {
   "cell_type": "code",
   "execution_count": 79,
   "metadata": {},
   "outputs": [],
   "source": [
    "reviews.reset_index(inplace=True,drop=True)"
   ]
  },
  {
   "cell_type": "code",
   "execution_count": 77,
   "metadata": {},
   "outputs": [
    {
     "data": {
      "text/html": [
       "<div>\n",
       "<style scoped>\n",
       "    .dataframe tbody tr th:only-of-type {\n",
       "        vertical-align: middle;\n",
       "    }\n",
       "\n",
       "    .dataframe tbody tr th {\n",
       "        vertical-align: top;\n",
       "    }\n",
       "\n",
       "    .dataframe thead th {\n",
       "        text-align: right;\n",
       "    }\n",
       "</style>\n",
       "<table border=\"1\" class=\"dataframe\">\n",
       "  <thead>\n",
       "    <tr style=\"text-align: right;\">\n",
       "      <th></th>\n",
       "      <th>reviewText</th>\n",
       "      <th>reviewText_clean_withstpwrds</th>\n",
       "      <th>reviewText_clean_nostpwrds</th>\n",
       "    </tr>\n",
       "  </thead>\n",
       "  <tbody>\n",
       "    <tr>\n",
       "      <th>0</th>\n",
       "      <td>Positives: Comfortable chair, and a fairly good value for the price--I work from home a lot, so a good office chair is vital. The chair that this one replaced lasted 15 years; hopefully this one will have a similar lifespan. The armrests are shaped, padded, and positioned well. Casters roll smoothly on carpet. Padding on seat and back is thick and seems resilient so far. The outer fabric also ...</td>\n",
       "      <td>positives comfortable chair and a fairly good value for the pricei work from home a lot so a good office chair is vital the chair that this one replaced lasted years hopefully this one will have a similar lifespan the armrests are shaped padded and positioned well casters roll smoothly on carpet padding on seat and back is thick and seems resilient so far the outer fabric also seems to be dura...</td>\n",
       "      <td>positives comfortable fairly good value pricei work home lot good office vital one replaced lasted years hopefully one similar lifespan armrests shaped padded positioned well casters roll smoothly carpet padding seat back thick seems resilient far outer fabric also seems durable negatives instructions assembly minimal though assembly wasnt difficult instructions adjustment recline tension fort...</td>\n",
       "    </tr>\n",
       "    <tr>\n",
       "      <th>1</th>\n",
       "      <td>While this chair is very nice, unfortunately, it was not as well padded as I had expected.  I had sat in the exact same model at a business office that I was in last year.  It was the most comfortable chair I had ever sat in. I actually turned the chair over to get the manufacturer and item number.  I knew I just had to have it.  So when I purchased this one a few months ago, I couldn't wait t...</td>\n",
       "      <td>while this chair is very nice unfortunately it was not as well padded as i had expected i had sat in the exact same model at a business office that i was in last year it was the most comfortable chair i had ever sat in i actually turned the chair over to get the manufacturer and item number i knew i just had to have it so when i purchased this one a few months ago i couldnt wait to get it as i...</td>\n",
       "      <td>nice unfortunately well padded expected sat exact model business office last year comfortable ever sat actually turned get manufacturer item number knew purchased one months ago couldnt wait get said ok worth price paid definitely soft comfortable one sat last year dont know difference unless company made cheap imitation im disappointed</td>\n",
       "    </tr>\n",
       "    <tr>\n",
       "      <th>2</th>\n",
       "      <td>Great chair. I had one for about 8 years and decided to try a cheaper chair that looked good. After going through 2 cheap chairs that not only wore out quickly but weren't nearly as comfortable, I bought another Hon Pillow Soft. I won't buy any other chair ever again!</td>\n",
       "      <td>great chair i had one for about years and decided to try a cheaper chair that looked good after going through cheap chairs that not only wore out quickly but werent nearly as comfortable i bought another hon pillow soft i wont buy any other chair ever again</td>\n",
       "      <td>great one years decided try cheaper looked good going cheap wore quickly werent nearly comfortable bought another hon pillow soft wont buy ever</td>\n",
       "    </tr>\n",
       "    <tr>\n",
       "      <th>3</th>\n",
       "      <td>As I spent a great deal of time at my desk, I deliberated, read and reread reviews prior to my purchase.  I purchase so many products online but hesitate with chairs as the proof of the pudding is in the sitting. Happy to say I am quite satisfied.  The chair is comfortable, sturdy and attractive. The simple seat adjustment works well. The price was well below what appear to be comparable desk ...</td>\n",
       "      <td>as i spent a great deal of time at my desk i deliberated read and reread reviews prior to my purchase i purchase so many products online but hesitate with chairs as the proof of the pudding is in the sitting happy to say i am quite satisfied the chair is comfortable sturdy and attractive the simple seat adjustment works well the price was well below what appear to be comparable desk chairs</td>\n",
       "      <td>spent great deal time desk deliberated read reread reviews prior purchase purchase many products online hesitate proof pudding sitting happy say quite satisfied comfortable sturdy attractive simple seat adjustment works well price well appear comparable desk</td>\n",
       "    </tr>\n",
       "    <tr>\n",
       "      <th>4</th>\n",
       "      <td>Chairs are very individual.  This one is not comfortable for me.  I feel like I'm leaning forward all the time and would rather sink into than slide forward on a chair.  I like car bucket seats and this one, in spite of the memory foam, just doesn't hold me in.  I had a chair that was comfortable and cost $79 vs. this one, but the arms wore out within year.  I keyed off of that when purchasing...</td>\n",
       "      <td>chairs are very individual this one is not comfortable for me i feel like im leaning forward all the time and would rather sink into than slide forward on a chair i like car bucket seats and this one in spite of the memory foam just doesnt hold me in i had a chair that was comfortable and cost vs this one but the arms wore out within year i keyed off of that when purchasing this hon and the ar...</td>\n",
       "      <td>individual one comfortable feel like im leaning forward time would rather sink slide forward like car bucket seats one spite memory foam doesnt hold comfortable cost vs one arms wore within year keyed purchasing hon arms really great good material little rubbery give leather wear like old one could put arms old id set im probably going buy another locally sit inon first like test driving autom...</td>\n",
       "    </tr>\n",
       "  </tbody>\n",
       "</table>\n",
       "</div>"
      ],
      "text/plain": [
       "                                                                                                                                                                                                                                                                                                                                                                                                        reviewText  \\\n",
       "0  Positives: Comfortable chair, and a fairly good value for the price--I work from home a lot, so a good office chair is vital. The chair that this one replaced lasted 15 years; hopefully this one will have a similar lifespan. The armrests are shaped, padded, and positioned well. Casters roll smoothly on carpet. Padding on seat and back is thick and seems resilient so far. The outer fabric also ...   \n",
       "1  While this chair is very nice, unfortunately, it was not as well padded as I had expected.  I had sat in the exact same model at a business office that I was in last year.  It was the most comfortable chair I had ever sat in. I actually turned the chair over to get the manufacturer and item number.  I knew I just had to have it.  So when I purchased this one a few months ago, I couldn't wait t...   \n",
       "2                                                                                                                                     Great chair. I had one for about 8 years and decided to try a cheaper chair that looked good. After going through 2 cheap chairs that not only wore out quickly but weren't nearly as comfortable, I bought another Hon Pillow Soft. I won't buy any other chair ever again!   \n",
       "3  As I spent a great deal of time at my desk, I deliberated, read and reread reviews prior to my purchase.  I purchase so many products online but hesitate with chairs as the proof of the pudding is in the sitting. Happy to say I am quite satisfied.  The chair is comfortable, sturdy and attractive. The simple seat adjustment works well. The price was well below what appear to be comparable desk ...   \n",
       "4  Chairs are very individual.  This one is not comfortable for me.  I feel like I'm leaning forward all the time and would rather sink into than slide forward on a chair.  I like car bucket seats and this one, in spite of the memory foam, just doesn't hold me in.  I had a chair that was comfortable and cost $79 vs. this one, but the arms wore out within year.  I keyed off of that when purchasing...   \n",
       "\n",
       "                                                                                                                                                                                                                                                                                                                                                                                      reviewText_clean_withstpwrds  \\\n",
       "0  positives comfortable chair and a fairly good value for the pricei work from home a lot so a good office chair is vital the chair that this one replaced lasted years hopefully this one will have a similar lifespan the armrests are shaped padded and positioned well casters roll smoothly on carpet padding on seat and back is thick and seems resilient so far the outer fabric also seems to be dura...   \n",
       "1  while this chair is very nice unfortunately it was not as well padded as i had expected i had sat in the exact same model at a business office that i was in last year it was the most comfortable chair i had ever sat in i actually turned the chair over to get the manufacturer and item number i knew i just had to have it so when i purchased this one a few months ago i couldnt wait to get it as i...   \n",
       "2                                                                                                                                                great chair i had one for about years and decided to try a cheaper chair that looked good after going through cheap chairs that not only wore out quickly but werent nearly as comfortable i bought another hon pillow soft i wont buy any other chair ever again   \n",
       "3         as i spent a great deal of time at my desk i deliberated read and reread reviews prior to my purchase i purchase so many products online but hesitate with chairs as the proof of the pudding is in the sitting happy to say i am quite satisfied the chair is comfortable sturdy and attractive the simple seat adjustment works well the price was well below what appear to be comparable desk chairs   \n",
       "4  chairs are very individual this one is not comfortable for me i feel like im leaning forward all the time and would rather sink into than slide forward on a chair i like car bucket seats and this one in spite of the memory foam just doesnt hold me in i had a chair that was comfortable and cost vs this one but the arms wore out within year i keyed off of that when purchasing this hon and the ar...   \n",
       "\n",
       "                                                                                                                                                                                                                                                                                                                                                                                        reviewText_clean_nostpwrds  \n",
       "0  positives comfortable fairly good value pricei work home lot good office vital one replaced lasted years hopefully one similar lifespan armrests shaped padded positioned well casters roll smoothly carpet padding seat back thick seems resilient far outer fabric also seems durable negatives instructions assembly minimal though assembly wasnt difficult instructions adjustment recline tension fort...  \n",
       "1                                                               nice unfortunately well padded expected sat exact model business office last year comfortable ever sat actually turned get manufacturer item number knew purchased one months ago couldnt wait get said ok worth price paid definitely soft comfortable one sat last year dont know difference unless company made cheap imitation im disappointed  \n",
       "2                                                                                                                                                                                                                                                                  great one years decided try cheaper looked good going cheap wore quickly werent nearly comfortable bought another hon pillow soft wont buy ever  \n",
       "3                                                                                                                                               spent great deal time desk deliberated read reread reviews prior purchase purchase many products online hesitate proof pudding sitting happy say quite satisfied comfortable sturdy attractive simple seat adjustment works well price well appear comparable desk  \n",
       "4  individual one comfortable feel like im leaning forward time would rather sink slide forward like car bucket seats one spite memory foam doesnt hold comfortable cost vs one arms wore within year keyed purchasing hon arms really great good material little rubbery give leather wear like old one could put arms old id set im probably going buy another locally sit inon first like test driving autom...  "
      ]
     },
     "execution_count": 77,
     "metadata": {},
     "output_type": "execute_result"
    }
   ],
   "source": [
    "reviews[['reviewText','reviewText_clean_withstpwrds','reviewText_clean_nostpwrds']].head()"
   ]
  },
  {
   "cell_type": "code",
   "execution_count": 91,
   "metadata": {},
   "outputs": [],
   "source": [
    "# saving dataset with cleaned text to csv\n",
    "\n",
    "reviews.to_csv('../project_data/reviews_final_dataset2.csv', index=False)"
   ]
  },
  {
   "cell_type": "markdown",
   "metadata": {},
   "source": [
    "## VADER Score vs User Rating Analysis"
   ]
  },
  {
   "cell_type": "code",
   "execution_count": 21,
   "metadata": {},
   "outputs": [],
   "source": [
    "# reviews = pd.read_csv('../project_data/reviews_final_dataset2.csv')"
   ]
  },
  {
   "cell_type": "code",
   "execution_count": 114,
   "metadata": {},
   "outputs": [],
   "source": [
    "user = reviews['overall']\n",
    "vader = reviews['vader_norm_scores']"
   ]
  },
  {
   "cell_type": "code",
   "execution_count": 320,
   "metadata": {},
   "outputs": [
    {
     "name": "stdout",
     "output_type": "stream",
     "text": [
      "Overall Accuracy:  0.7828488822344984\n",
      "Accuracy by Score:  {1.0: 0.3256608068799798, 2.0: 0.22835656639765223, 3.0: 0.18455407448124228, 4.0: 0.20557362507392077, 5.0: 0.7828488822344984}\n"
     ]
    },
    {
     "data": {
      "text/html": [
       "<div>\n",
       "<style scoped>\n",
       "    .dataframe tbody tr th:only-of-type {\n",
       "        vertical-align: middle;\n",
       "    }\n",
       "\n",
       "    .dataframe tbody tr th {\n",
       "        vertical-align: top;\n",
       "    }\n",
       "\n",
       "    .dataframe thead th {\n",
       "        text-align: right;\n",
       "    }\n",
       "</style>\n",
       "<table border=\"1\" class=\"dataframe\">\n",
       "  <thead>\n",
       "    <tr style=\"text-align: right;\">\n",
       "      <th>vader_norm_scores</th>\n",
       "      <th>1.0</th>\n",
       "      <th>2.0</th>\n",
       "      <th>3.0</th>\n",
       "      <th>4.0</th>\n",
       "      <th>5.0</th>\n",
       "    </tr>\n",
       "    <tr>\n",
       "      <th>overall</th>\n",
       "      <th></th>\n",
       "      <th></th>\n",
       "      <th></th>\n",
       "      <th></th>\n",
       "      <th></th>\n",
       "    </tr>\n",
       "  </thead>\n",
       "  <tbody>\n",
       "    <tr>\n",
       "      <th>1.0</th>\n",
       "      <td>2575</td>\n",
       "      <td>2164</td>\n",
       "      <td>1439</td>\n",
       "      <td>865</td>\n",
       "      <td>864</td>\n",
       "    </tr>\n",
       "    <tr>\n",
       "      <th>2.0</th>\n",
       "      <td>1072</td>\n",
       "      <td>1245</td>\n",
       "      <td>1035</td>\n",
       "      <td>889</td>\n",
       "      <td>1211</td>\n",
       "    </tr>\n",
       "    <tr>\n",
       "      <th>3.0</th>\n",
       "      <td>591</td>\n",
       "      <td>1073</td>\n",
       "      <td>1343</td>\n",
       "      <td>1580</td>\n",
       "      <td>2690</td>\n",
       "    </tr>\n",
       "    <tr>\n",
       "      <th>4.0</th>\n",
       "      <td>206</td>\n",
       "      <td>524</td>\n",
       "      <td>1078</td>\n",
       "      <td>2781</td>\n",
       "      <td>8939</td>\n",
       "    </tr>\n",
       "    <tr>\n",
       "      <th>5.0</th>\n",
       "      <td>199</td>\n",
       "      <td>408</td>\n",
       "      <td>1774</td>\n",
       "      <td>6031</td>\n",
       "      <td>30326</td>\n",
       "    </tr>\n",
       "  </tbody>\n",
       "</table>\n",
       "</div>"
      ],
      "text/plain": [
       "vader_norm_scores   1.0   2.0   3.0   4.0    5.0\n",
       "overall                                         \n",
       "1.0                2575  2164  1439   865    864\n",
       "2.0                1072  1245  1035   889   1211\n",
       "3.0                 591  1073  1343  1580   2690\n",
       "4.0                 206   524  1078  2781   8939\n",
       "5.0                 199   408  1774  6031  30326"
      ]
     },
     "execution_count": 320,
     "metadata": {},
     "output_type": "execute_result"
    }
   ],
   "source": [
    "table = pd.crosstab(user,vader)\n",
    "\n",
    "# overall accuracy\n",
    "accuracy = (table.values.diagonal().sum()) / table.values.sum()\n",
    "\n",
    "# accuracies by label\n",
    "classes = table.index.union(table.columns)\n",
    "accuracies = {}\n",
    "for class_name in classes:\n",
    "    correct_predictions = table.loc[class_name, class_name] if class_name in table.index else 0\n",
    "    total_predictions = table.loc[class_name].sum() if class_name in table.index else 0\n",
    "    accuracy = correct_predictions / total_predictions if total_predictions != 0 else 0\n",
    "    accuracies[class_name] = accuracy\n",
    "\n",
    "print(\"Overall Accuracy: \", accuracy)\n",
    "print(\"Accuracy by Score: \", accuracies)\n",
    "table"
   ]
  },
  {
   "cell_type": "code",
   "execution_count": 159,
   "metadata": {},
   "outputs": [],
   "source": [
    "vader_means = reviews.groupby('overall')['vader_norm_scores'].mean()"
   ]
  },
  {
   "cell_type": "code",
   "execution_count": 317,
   "metadata": {},
   "outputs": [
    {
     "data": {
      "text/plain": [
       "<matplotlib.collections.PathCollection at 0x24f34d268d0>"
      ]
     },
     "execution_count": 317,
     "metadata": {},
     "output_type": "execute_result"
    },
    {
     "data": {
      "image/png": "[encoded data removed]",
      "text/plain": [
       "<Figure size 1100x500 with 1 Axes>"
      ]
     },
     "metadata": {},
     "output_type": "display_data"
    }
   ],
   "source": [
    "fig, ax = plt.subplots(figsize=(11,5))\n",
    "sns.set_palette('Set2')\n",
    "plot = sns.violinplot(x=user, \n",
    "             y=vader,\n",
    "             width=.9,\n",
    "             density_norm='count')\n",
    "plot.set(xlabel='User Rating', \n",
    "         ylabel='VADER Score',\n",
    "         title='User Rating vs. VADER Sentiment Score')\n",
    "plt.scatter(x=range(len(vader_means)),y=vader_means, c='red', marker='_', s=200)\n"
   ]
  },
  {
   "cell_type": "markdown",
   "metadata": {},
   "source": [
    "## Vectorization and Clustering\n",
    "#### 1. Word Embedding with fastText"
   ]
  },
  {
   "cell_type": "code",
   "execution_count": 117,
   "metadata": {},
   "outputs": [],
   "source": [
    "# create a text file from the cleaned reviews to use to train the fastText model\n",
    "\n",
    "#reviews['reviewText_clean'].to_csv('../project_data/reviews_clean.txt', header=False, index=False, sep='\\n')"
   ]
  },
  {
   "cell_type": "code",
   "execution_count": 23,
   "metadata": {},
   "outputs": [
    {
     "name": "stdout",
     "output_type": "stream",
     "text": [
      "FastText<vocab=9373, vector_size=200, alpha=0.025>\n"
     ]
    }
   ],
   "source": [
    "# training fasttext model\n",
    "\n",
    "corpus = '../project_data/reviews_clean.txt'\n",
    "\n",
    "model = FastText(vector_size=200,\n",
    "                 sg=1)\n",
    "\n",
    "model.build_vocab(corpus_file=corpus)\n",
    "\n",
    "model.train(corpus_file=corpus,\n",
    "            epochs=model.epochs,\n",
    "            total_examples=model.corpus_count,\n",
    "            total_words=model.corpus_total_words)\n",
    "\n",
    "print(model)"
   ]
  },
  {
   "cell_type": "markdown",
   "metadata": {},
   "source": [
    "#### 2. Clustering with HDBSCAN"
   ]
  },
  {
   "cell_type": "code",
   "execution_count": 82,
   "metadata": {},
   "outputs": [],
   "source": [
    "# methods to help create document embeddings from the fastText model by averaging the word vectors of words in a sentence\n",
    "\n",
    "def get_word_embed(word):\n",
    "    try:\n",
    "        return model.wv[word]\n",
    "    except KeyError:\n",
    "        return np.zeros(model.vector_size)\n",
    "\n",
    "def doc_embed(text):\n",
    "    tokens = text.split()\n",
    "    embeddings = [get_word_embed(token) for token in tokens]\n",
    "    embeddings = [emb for emb in embeddings if np.any(emb)]\n",
    "    if embeddings:\n",
    "        return np.mean(embeddings, axis=0)\n",
    "    return np.zeros(model.vector_size)"
   ]
  },
  {
   "cell_type": "code",
   "execution_count": 89,
   "metadata": {},
   "outputs": [],
   "source": [
    "reviews.dropna(subset=['reviewText_clean_nostpwrds'], inplace=True)\n",
    "reviews.reset_index(inplace=True,drop=True)"
   ]
  },
  {
   "cell_type": "code",
   "execution_count": 90,
   "metadata": {},
   "outputs": [],
   "source": [
    "texts = reviews['reviewText_clean_nostpwrds']\n",
    "\n",
    "for i in range(0,len(texts)):\n",
    "    if isinstance(texts[i],float):\n",
    "        print(i)\n",
    "        print(texts[i])"
   ]
  },
  {
   "cell_type": "code",
   "execution_count": 92,
   "metadata": {},
   "outputs": [],
   "source": [
    "# creating the document embeddings\n",
    "\n",
    "reviews = pd.read_csv('../project_data/reviews_final_dataset2.csv')\n",
    "\n",
    "documents = [doc for doc in reviews['reviewText_clean_nostpwrds']]\n",
    "doc_embeddings = [doc_embed(doc) for doc in documents]\n",
    "embedding_array = np.array(doc_embeddings)"
   ]
  },
  {
   "cell_type": "code",
   "execution_count": 93,
   "metadata": {},
   "outputs": [],
   "source": [
    "# creating the clusterings on the document embeddings using HDBSCAN, three models were created using different parameters:\n",
    "# 1. default parameters (min_cluster_size = 5, min_samples = 0)\n",
    "# 2. min_cluster_size = 10, min_samples = 5\n",
    "# 3. min_cluster_size = 20, min_samples = 10\n",
    "\n",
    "clusterer = hdbscan.HDBSCAN(gen_min_span_tree=True, core_dist_n_jobs=8)\n",
    "review_clusters = clusterer.fit(embedding_array)"
   ]
  },
  {
   "cell_type": "code",
   "execution_count": 94,
   "metadata": {},
   "outputs": [],
   "source": [
    "# save the model\n",
    "\n",
    "with open('../project_data/hdbscan_model6_def_params.pickle', 'wb') as f:\n",
    "    pickle.dump(review_clusters,f)"
   ]
  },
  {
   "cell_type": "code",
   "execution_count": 10,
   "metadata": {},
   "outputs": [],
   "source": [
    "# read in a saved model\n",
    "\n",
    "# with open('../project_data/hdbscan_model1_def_params.pickle', 'rb') as f:\n",
    "#     review_clusters = pickle.load(f)"
   ]
  },
  {
   "cell_type": "code",
   "execution_count": 95,
   "metadata": {},
   "outputs": [
    {
     "data": {
      "text/plain": [
       "0.33539873317466423"
      ]
     },
     "execution_count": 95,
     "metadata": {},
     "output_type": "execute_result"
    }
   ],
   "source": [
    "# reading in each of the three saved models to compare their relative validity (higher = better, relative to other models)\n",
    "# model1: 0.3135576299460738\n",
    "# model2: 0.30914292473577404\n",
    "# model3: 0.30405993551429245\n",
    "\n",
    "# the model with default parameters will be used for analysis\n",
    "\n",
    "review_clusters.relative_validity_"
   ]
  },
  {
   "cell_type": "code",
   "execution_count": 96,
   "metadata": {},
   "outputs": [
    {
     "data": {
      "text/plain": [
       "293"
      ]
     },
     "execution_count": 96,
     "metadata": {},
     "output_type": "execute_result"
    }
   ],
   "source": [
    "# clustering with the default parameters produces 243 clusters, plus 1 group of points not assigned to a cluster (noise)\n",
    "\n",
    "review_clusters.labels_.max()"
   ]
  },
  {
   "cell_type": "code",
   "execution_count": 97,
   "metadata": {},
   "outputs": [],
   "source": [
    "# adding assigned cluster to rows\n",
    "\n",
    "reviews['cluster'] = review_clusters.labels_"
   ]
  },
  {
   "cell_type": "code",
   "execution_count": 123,
   "metadata": {},
   "outputs": [
    {
     "data": {
      "text/html": [
       "<div>\n",
       "<style scoped>\n",
       "    .dataframe tbody tr th:only-of-type {\n",
       "        vertical-align: middle;\n",
       "    }\n",
       "\n",
       "    .dataframe tbody tr th {\n",
       "        vertical-align: top;\n",
       "    }\n",
       "\n",
       "    .dataframe thead th {\n",
       "        text-align: right;\n",
       "    }\n",
       "</style>\n",
       "<table border=\"1\" class=\"dataframe\">\n",
       "  <thead>\n",
       "    <tr style=\"text-align: right;\">\n",
       "      <th></th>\n",
       "      <th>samples</th>\n",
       "    </tr>\n",
       "    <tr>\n",
       "      <th>cluster</th>\n",
       "      <th></th>\n",
       "    </tr>\n",
       "  </thead>\n",
       "  <tbody>\n",
       "    <tr>\n",
       "      <th>171</th>\n",
       "      <td>5</td>\n",
       "    </tr>\n",
       "    <tr>\n",
       "      <th>198</th>\n",
       "      <td>5</td>\n",
       "    </tr>\n",
       "    <tr>\n",
       "      <th>199</th>\n",
       "      <td>5</td>\n",
       "    </tr>\n",
       "    <tr>\n",
       "      <th>206</th>\n",
       "      <td>5</td>\n",
       "    </tr>\n",
       "    <tr>\n",
       "      <th>139</th>\n",
       "      <td>5</td>\n",
       "    </tr>\n",
       "    <tr>\n",
       "      <th>...</th>\n",
       "      <td>...</td>\n",
       "    </tr>\n",
       "    <tr>\n",
       "      <th>76</th>\n",
       "      <td>363</td>\n",
       "    </tr>\n",
       "    <tr>\n",
       "      <th>153</th>\n",
       "      <td>372</td>\n",
       "    </tr>\n",
       "    <tr>\n",
       "      <th>75</th>\n",
       "      <td>388</td>\n",
       "    </tr>\n",
       "    <tr>\n",
       "      <th>241</th>\n",
       "      <td>22212</td>\n",
       "    </tr>\n",
       "    <tr>\n",
       "      <th>-1</th>\n",
       "      <td>44517</td>\n",
       "    </tr>\n",
       "  </tbody>\n",
       "</table>\n",
       "<p>295 rows × 1 columns</p>\n",
       "</div>"
      ],
      "text/plain": [
       "         samples\n",
       "cluster         \n",
       " 171           5\n",
       " 198           5\n",
       " 199           5\n",
       " 206           5\n",
       " 139           5\n",
       "...          ...\n",
       " 76          363\n",
       " 153         372\n",
       " 75          388\n",
       " 241       22212\n",
       "-1         44517\n",
       "\n",
       "[295 rows x 1 columns]"
      ]
     },
     "execution_count": 123,
     "metadata": {},
     "output_type": "execute_result"
    }
   ],
   "source": [
    "# cluster sizes\n",
    "\n",
    "cluster_sizes = reviews.groupby('cluster').size().rename('samples')\n",
    "\n",
    "cluster_counts = pd.DataFrame(cluster_sizes)\n",
    "\n",
    "cluster_counts.sort_values(by=['samples'])"
   ]
  },
  {
   "cell_type": "code",
   "execution_count": 100,
   "metadata": {},
   "outputs": [],
   "source": [
    "# adding column of compound scores to reviews df\n",
    "\n",
    "def retrieve_compound(dict):\n",
    "    score = dict.get('compound')\n",
    "    return score\n",
    "\n",
    "reviews['vader_compound'] = reviews['sentiment'].apply(lambda x: retrieve_compound(x))"
   ]
  },
  {
   "cell_type": "code",
   "execution_count": 101,
   "metadata": {},
   "outputs": [],
   "source": [
    "# extract keywords from clusters\n",
    "stop_words = list(text.ENGLISH_STOP_WORDS)\n",
    "\n",
    "tfidf = TfidfVectorizer(stop_words=stop_words)\n",
    "\n",
    "results = []\n",
    "\n",
    "grouped = reviews.groupby('cluster')\n",
    "\n",
    "# Iterate through each cluster\n",
    "for cluster, data in grouped:\n",
    "    non_stopwords_docs = [doc for doc in data['reviewText_clean_nostpwrds'] if any(word not in stop_words for word in doc.split())]\n",
    "\n",
    "    if non_stopwords_docs:\n",
    "        tfidf_matrix = tfidf.fit_transform(non_stopwords_docs)\n",
    "\n",
    "        feature_names = tfidf.get_feature_names_out()\n",
    "\n",
    "        scores = tfidf_matrix.sum(axis=0).A1\n",
    "        top_keyword_indices = scores.argsort()[-10:][::-1]  \n",
    "\n",
    "        top_keywords = [feature_names[i] for i in top_keyword_indices]\n",
    "\n",
    "        avg_numerical_value = data['vader_compound'].mean()\n",
    "\n",
    "        results.append({\n",
    "            'cluster': cluster,\n",
    "            'keywords': ', '.join(top_keywords),\n",
    "            'vader_compound': avg_numerical_value\n",
    "        })\n",
    "\n",
    "results_df = pd.DataFrame(results)"
   ]
  },
  {
   "cell_type": "code",
   "execution_count": 112,
   "metadata": {},
   "outputs": [
    {
     "data": {
      "text/html": [
       "<div>\n",
       "<style scoped>\n",
       "    .dataframe tbody tr th:only-of-type {\n",
       "        vertical-align: middle;\n",
       "    }\n",
       "\n",
       "    .dataframe tbody tr th {\n",
       "        vertical-align: top;\n",
       "    }\n",
       "\n",
       "    .dataframe thead th {\n",
       "        text-align: right;\n",
       "    }\n",
       "</style>\n",
       "<table border=\"1\" class=\"dataframe\">\n",
       "  <thead>\n",
       "    <tr style=\"text-align: right;\">\n",
       "      <th></th>\n",
       "      <th>cluster</th>\n",
       "      <th>keywords</th>\n",
       "      <th>vader_compound</th>\n",
       "    </tr>\n",
       "  </thead>\n",
       "  <tbody>\n",
       "    <tr>\n",
       "      <th>37</th>\n",
       "      <td>36</td>\n",
       "      <td>broken, arrived, unusable, parts</td>\n",
       "      <td>-0.511229</td>\n",
       "    </tr>\n",
       "    <tr>\n",
       "      <th>30</th>\n",
       "      <td>29</td>\n",
       "      <td>broken, small, cup</td>\n",
       "      <td>-0.476700</td>\n",
       "    </tr>\n",
       "    <tr>\n",
       "      <th>26</th>\n",
       "      <td>25</td>\n",
       "      <td>uncomfortable, uncomfotable</td>\n",
       "      <td>-0.422494</td>\n",
       "    </tr>\n",
       "    <tr>\n",
       "      <th>67</th>\n",
       "      <td>66</td>\n",
       "      <td>months, broke, month</td>\n",
       "      <td>-0.421500</td>\n",
       "    </tr>\n",
       "    <tr>\n",
       "      <th>81</th>\n",
       "      <td>80</td>\n",
       "      <td>broke, week, month, months, weeks, days, uu, product, owning</td>\n",
       "      <td>-0.421500</td>\n",
       "    </tr>\n",
       "    <tr>\n",
       "      <th>82</th>\n",
       "      <td>81</td>\n",
       "      <td>seat, hard, nice, cushion</td>\n",
       "      <td>-0.181257</td>\n",
       "    </tr>\n",
       "    <tr>\n",
       "      <th>51</th>\n",
       "      <td>50</td>\n",
       "      <td>cheaply, comfortable</td>\n",
       "      <td>-0.044700</td>\n",
       "    </tr>\n",
       "    <tr>\n",
       "      <th>54</th>\n",
       "      <td>53</td>\n",
       "      <td>pay, ok, kinda, guess, alright</td>\n",
       "      <td>-0.030050</td>\n",
       "    </tr>\n",
       "    <tr>\n",
       "      <th>55</th>\n",
       "      <td>54</td>\n",
       "      <td>confortable, effortable</td>\n",
       "      <td>-0.022769</td>\n",
       "    </tr>\n",
       "    <tr>\n",
       "      <th>18</th>\n",
       "      <td>17</td>\n",
       "      <td>returned, unopened</td>\n",
       "      <td>0.000000</td>\n",
       "    </tr>\n",
       "    <tr>\n",
       "      <th>44</th>\n",
       "      <td>43</td>\n",
       "      <td>poorly, plastic</td>\n",
       "      <td>0.000000</td>\n",
       "    </tr>\n",
       "    <tr>\n",
       "      <th>49</th>\n",
       "      <td>48</td>\n",
       "      <td>expected, smaller, expectex</td>\n",
       "      <td>0.000000</td>\n",
       "    </tr>\n",
       "    <tr>\n",
       "      <th>165</th>\n",
       "      <td>165</td>\n",
       "      <td>aaa, aa</td>\n",
       "      <td>0.000000</td>\n",
       "    </tr>\n",
       "    <tr>\n",
       "      <th>166</th>\n",
       "      <td>166</td>\n",
       "      <td>xxxxxxdddddfdffff, xoxoxo, sxbebvphhcaym, sdgsdg, niceeeeeeeeeee, httpswwwamazoncomdpbdmdayrefcmcrrypprdttlsol, httpssmileamazoncomdpbtkdlrefcmcrrypprdttlsol, httpssmileamazoncomdpbfatkgrefcmcrrypprdttlsol, ahhhhhhhhhh, aa</td>\n",
       "      <td>0.000000</td>\n",
       "    </tr>\n",
       "    <tr>\n",
       "      <th>38</th>\n",
       "      <td>37</td>\n",
       "      <td>comfy</td>\n",
       "      <td>0.000000</td>\n",
       "    </tr>\n",
       "  </tbody>\n",
       "</table>\n",
       "</div>"
      ],
      "text/plain": [
       "     cluster  \\\n",
       "37        36   \n",
       "30        29   \n",
       "26        25   \n",
       "67        66   \n",
       "81        80   \n",
       "82        81   \n",
       "51        50   \n",
       "54        53   \n",
       "55        54   \n",
       "18        17   \n",
       "44        43   \n",
       "49        48   \n",
       "165      165   \n",
       "166      166   \n",
       "38        37   \n",
       "\n",
       "                                                                                                                                                                                                                           keywords  \\\n",
       "37                                                                                                                                                                                                 broken, arrived, unusable, parts   \n",
       "30                                                                                                                                                                                                               broken, small, cup   \n",
       "26                                                                                                                                                                                                      uncomfortable, uncomfotable   \n",
       "67                                                                                                                                                                                                             months, broke, month   \n",
       "81                                                                                                                                                                     broke, week, month, months, weeks, days, uu, product, owning   \n",
       "82                                                                                                                                                                                                        seat, hard, nice, cushion   \n",
       "51                                                                                                                                                                                                             cheaply, comfortable   \n",
       "54                                                                                                                                                                                                   pay, ok, kinda, guess, alright   \n",
       "55                                                                                                                                                                                                          confortable, effortable   \n",
       "18                                                                                                                                                                                                               returned, unopened   \n",
       "44                                                                                                                                                                                                                  poorly, plastic   \n",
       "49                                                                                                                                                                                                      expected, smaller, expectex   \n",
       "165                                                                                                                                                                                                                         aaa, aa   \n",
       "166  xxxxxxdddddfdffff, xoxoxo, sxbebvphhcaym, sdgsdg, niceeeeeeeeeee, httpswwwamazoncomdpbdmdayrefcmcrrypprdttlsol, httpssmileamazoncomdpbtkdlrefcmcrrypprdttlsol, httpssmileamazoncomdpbfatkgrefcmcrrypprdttlsol, ahhhhhhhhhh, aa   \n",
       "38                                                                                                                                                                                                                            comfy   \n",
       "\n",
       "     vader_compound  \n",
       "37        -0.511229  \n",
       "30        -0.476700  \n",
       "26        -0.422494  \n",
       "67        -0.421500  \n",
       "81        -0.421500  \n",
       "82        -0.181257  \n",
       "51        -0.044700  \n",
       "54        -0.030050  \n",
       "55        -0.022769  \n",
       "18         0.000000  \n",
       "44         0.000000  \n",
       "49         0.000000  \n",
       "165        0.000000  \n",
       "166        0.000000  \n",
       "38         0.000000  "
      ]
     },
     "execution_count": 112,
     "metadata": {},
     "output_type": "execute_result"
    }
   ],
   "source": [
    "pd.set_option('max_colwidth', 400)\n",
    "results_df.sort_values(by=['vader_compound']).head(15)"
   ]
  },
  {
   "cell_type": "code",
   "execution_count": 114,
   "metadata": {},
   "outputs": [
    {
     "data": {
      "text/html": [
       "<div>\n",
       "<style scoped>\n",
       "    .dataframe tbody tr th:only-of-type {\n",
       "        vertical-align: middle;\n",
       "    }\n",
       "\n",
       "    .dataframe tbody tr th {\n",
       "        vertical-align: top;\n",
       "    }\n",
       "\n",
       "    .dataframe thead th {\n",
       "        text-align: right;\n",
       "    }\n",
       "</style>\n",
       "<table border=\"1\" class=\"dataframe\">\n",
       "  <thead>\n",
       "    <tr style=\"text-align: right;\">\n",
       "      <th></th>\n",
       "      <th>cluster</th>\n",
       "      <th>keywords</th>\n",
       "      <th>vader_compound</th>\n",
       "    </tr>\n",
       "  </thead>\n",
       "  <tbody>\n",
       "    <tr>\n",
       "      <th>213</th>\n",
       "      <td>213</td>\n",
       "      <td>value, great, comfortable</td>\n",
       "      <td>0.881420</td>\n",
       "    </tr>\n",
       "    <tr>\n",
       "      <th>196</th>\n",
       "      <td>196</td>\n",
       "      <td>lumbar, support, great, comfortable, good, supporters, stable, nice, love</td>\n",
       "      <td>0.884071</td>\n",
       "    </tr>\n",
       "    <tr>\n",
       "      <th>218</th>\n",
       "      <td>218</td>\n",
       "      <td>great, price, love</td>\n",
       "      <td>0.885114</td>\n",
       "    </tr>\n",
       "    <tr>\n",
       "      <th>258</th>\n",
       "      <td>258</td>\n",
       "      <td>great, comfortable, looks, easy, assemble, nice, comfy, good, really, love</td>\n",
       "      <td>0.885400</td>\n",
       "    </tr>\n",
       "    <tr>\n",
       "      <th>263</th>\n",
       "      <td>263</td>\n",
       "      <td>comfortable, super, easy, assemble, great, comfy</td>\n",
       "      <td>0.889273</td>\n",
       "    </tr>\n",
       "    <tr>\n",
       "      <th>271</th>\n",
       "      <td>271</td>\n",
       "      <td>great, easy, comfortable, assemble</td>\n",
       "      <td>0.889637</td>\n",
       "    </tr>\n",
       "    <tr>\n",
       "      <th>270</th>\n",
       "      <td>270</td>\n",
       "      <td>great, easy, comfortable, assemble</td>\n",
       "      <td>0.891100</td>\n",
       "    </tr>\n",
       "    <tr>\n",
       "      <th>252</th>\n",
       "      <td>252</td>\n",
       "      <td>great, office, home, easy, comfortable, looks, good, assemble, beautiful, super</td>\n",
       "      <td>0.892367</td>\n",
       "    </tr>\n",
       "    <tr>\n",
       "      <th>221</th>\n",
       "      <td>221</td>\n",
       "      <td>price, love, comfortable, great, good</td>\n",
       "      <td>0.892833</td>\n",
       "    </tr>\n",
       "    <tr>\n",
       "      <th>290</th>\n",
       "      <td>290</td>\n",
       "      <td>great, easy, comfortable</td>\n",
       "      <td>0.893400</td>\n",
       "    </tr>\n",
       "    <tr>\n",
       "      <th>284</th>\n",
       "      <td>284</td>\n",
       "      <td>comfortable, love, easy, comfy, super, lovin, sturdy, farvery, fantastic, awesome</td>\n",
       "      <td>0.893956</td>\n",
       "    </tr>\n",
       "    <tr>\n",
       "      <th>259</th>\n",
       "      <td>259</td>\n",
       "      <td>love, easy, comfortable, assemble, great</td>\n",
       "      <td>0.898658</td>\n",
       "    </tr>\n",
       "    <tr>\n",
       "      <th>215</th>\n",
       "      <td>215</td>\n",
       "      <td>great, love, looks, comfortable, feels</td>\n",
       "      <td>0.900800</td>\n",
       "    </tr>\n",
       "    <tr>\n",
       "      <th>255</th>\n",
       "      <td>255</td>\n",
       "      <td>looking, easy, comfortable, great, nice, really, love, good</td>\n",
       "      <td>0.903340</td>\n",
       "    </tr>\n",
       "    <tr>\n",
       "      <th>152</th>\n",
       "      <td>152</td>\n",
       "      <td>love</td>\n",
       "      <td>0.929600</td>\n",
       "    </tr>\n",
       "  </tbody>\n",
       "</table>\n",
       "</div>"
      ],
      "text/plain": [
       "     cluster  \\\n",
       "213      213   \n",
       "196      196   \n",
       "218      218   \n",
       "258      258   \n",
       "263      263   \n",
       "271      271   \n",
       "270      270   \n",
       "252      252   \n",
       "221      221   \n",
       "290      290   \n",
       "284      284   \n",
       "259      259   \n",
       "215      215   \n",
       "255      255   \n",
       "152      152   \n",
       "\n",
       "                                                                              keywords  \\\n",
       "213                                                          value, great, comfortable   \n",
       "196          lumbar, support, great, comfortable, good, supporters, stable, nice, love   \n",
       "218                                                                 great, price, love   \n",
       "258         great, comfortable, looks, easy, assemble, nice, comfy, good, really, love   \n",
       "263                                   comfortable, super, easy, assemble, great, comfy   \n",
       "271                                                 great, easy, comfortable, assemble   \n",
       "270                                                 great, easy, comfortable, assemble   \n",
       "252    great, office, home, easy, comfortable, looks, good, assemble, beautiful, super   \n",
       "221                                              price, love, comfortable, great, good   \n",
       "290                                                           great, easy, comfortable   \n",
       "284  comfortable, love, easy, comfy, super, lovin, sturdy, farvery, fantastic, awesome   \n",
       "259                                           love, easy, comfortable, assemble, great   \n",
       "215                                             great, love, looks, comfortable, feels   \n",
       "255                        looking, easy, comfortable, great, nice, really, love, good   \n",
       "152                                                                               love   \n",
       "\n",
       "     vader_compound  \n",
       "213        0.881420  \n",
       "196        0.884071  \n",
       "218        0.885114  \n",
       "258        0.885400  \n",
       "263        0.889273  \n",
       "271        0.889637  \n",
       "270        0.891100  \n",
       "252        0.892367  \n",
       "221        0.892833  \n",
       "290        0.893400  \n",
       "284        0.893956  \n",
       "259        0.898658  \n",
       "215        0.900800  \n",
       "255        0.903340  \n",
       "152        0.929600  "
      ]
     },
     "execution_count": 114,
     "metadata": {},
     "output_type": "execute_result"
    }
   ],
   "source": [
    "results_df.sort_values(by=['vader_compound']).tail(15)"
   ]
  },
  {
   "cell_type": "code",
   "execution_count": 115,
   "metadata": {},
   "outputs": [
    {
     "data": {
      "text/plain": [
       "15001                           Cheaply made\n",
       "15181                     Very Cheaply made.\n",
       "19819    too cheaply made ,,not comfortable.\n",
       "32579                          Cheaply made.\n",
       "45409                           Cheaply made\n",
       "46042                          cheaply made.\n",
       "46704                           cheaply made\n",
       "54707                           Cheaply made\n",
       "70380                   Very cheaply made...\n",
       "Name: reviewText, dtype: object"
      ]
     },
     "execution_count": 115,
     "metadata": {},
     "output_type": "execute_result"
    }
   ],
   "source": [
    "reviews.loc[reviews['cluster'] == 50]['reviewText']"
   ]
  },
  {
   "cell_type": "code",
   "execution_count": 289,
   "metadata": {},
   "outputs": [
    {
     "name": "stdout",
     "output_type": "stream",
     "text": [
      "Q1 quantile of arr :  22.0\n"
     ]
    },
    {
     "data": {
      "image/png": "[encoded data removed]",
      "text/plain": [
       "<Figure size 640x480 with 1 Axes>"
      ]
     },
     "metadata": {},
     "output_type": "display_data"
    }
   ],
   "source": [
    "lengths = []\n",
    "\n",
    "for text in reviews_long['reviewText_clean']:\n",
    "    lengths.append(len(text.split()))\n",
    "\n",
    "plt.boxplot(lengths, showfliers=False, showmeans=True)\n",
    "print(\"Q1 quantile of arr : \", np.quantile(lengths, .25))\n",
    "plt.show()"
   ]
  },
  {
   "cell_type": "code",
   "execution_count": 306,
   "metadata": {},
   "outputs": [],
   "source": [
    "# re-running the document embeddings and clusters with only reviews w/ word count greater than 5, above the 1st quartile\n",
    "\n",
    "def word_count(text):\n",
    "    return len(text.split())\n",
    "\n",
    "reviews_long = reviews.loc[reviews['reviewText_clean'].apply(lambda x: word_count(x) > 5)]"
   ]
  },
  {
   "cell_type": "code",
   "execution_count": 307,
   "metadata": {},
   "outputs": [
    {
     "name": "stdout",
     "output_type": "stream",
     "text": [
      "<class 'pandas.core.frame.DataFrame'>\n",
      "Index: 64319 entries, 0 to 72901\n",
      "Data columns (total 10 columns):\n",
      " #   Column             Non-Null Count  Dtype  \n",
      "---  ------             --------------  -----  \n",
      " 0   asin               64319 non-null  object \n",
      " 1   reviewerID         64319 non-null  object \n",
      " 2   overall            64319 non-null  float64\n",
      " 3   summary            64315 non-null  object \n",
      " 4   reviewText         64319 non-null  object \n",
      " 5   sentiment          64319 non-null  object \n",
      " 6   vader_norm_scores  64319 non-null  float64\n",
      " 7   reviewText_clean   64319 non-null  object \n",
      " 8   cluster            64319 non-null  int64  \n",
      " 9   vader_compound     64319 non-null  float64\n",
      "dtypes: float64(3), int64(1), object(6)\n",
      "memory usage: 5.4+ MB\n"
     ]
    }
   ],
   "source": [
    "reviews_long.info()"
   ]
  },
  {
   "cell_type": "code",
   "execution_count": 308,
   "metadata": {},
   "outputs": [],
   "source": [
    "documents = [doc for doc in reviews_long['reviewText_clean']]\n",
    "doc_embeddings = [doc_embed(doc) for doc in documents]\n",
    "embedding_array = np.array(doc_embeddings)"
   ]
  },
  {
   "cell_type": "code",
   "execution_count": 309,
   "metadata": {},
   "outputs": [],
   "source": [
    "# running model on new dataset\n",
    "\n",
    "clusterer = hdbscan.HDBSCAN(gen_min_span_tree=True, core_dist_n_jobs=8)\n",
    "review_clusters = clusterer.fit(embedding_array)"
   ]
  },
  {
   "cell_type": "code",
   "execution_count": 310,
   "metadata": {},
   "outputs": [],
   "source": [
    "with open('../project_data/hdbscan_model4_reduced_data_def_params.pickle', 'wb') as f:\n",
    "    pickle.dump(review_clusters,f)"
   ]
  },
  {
   "cell_type": "code",
   "execution_count": 311,
   "metadata": {},
   "outputs": [
    {
     "data": {
      "text/plain": [
       "0.2833738616302906"
      ]
     },
     "execution_count": 311,
     "metadata": {},
     "output_type": "execute_result"
    }
   ],
   "source": [
    "review_clusters.relative_validity_"
   ]
  },
  {
   "cell_type": "code",
   "execution_count": 312,
   "metadata": {},
   "outputs": [
    {
     "data": {
      "text/plain": [
       "47"
      ]
     },
     "execution_count": 312,
     "metadata": {},
     "output_type": "execute_result"
    }
   ],
   "source": [
    "review_clusters.labels_.max()"
   ]
  },
  {
   "cell_type": "code",
   "execution_count": 321,
   "metadata": {},
   "outputs": [
    {
     "name": "stderr",
     "output_type": "stream",
     "text": [
      "C:\\Users\\nicho\\AppData\\Local\\Temp\\ipykernel_34424\\659304753.py:1: SettingWithCopyWarning: \n",
      "A value is trying to be set on a copy of a slice from a DataFrame.\n",
      "Try using .loc[row_indexer,col_indexer] = value instead\n",
      "\n",
      "See the caveats in the documentation: https://pandas.pydata.org/pandas-docs/stable/user_guide/indexing.html#returning-a-view-versus-a-copy\n",
      "  reviews_long['cluster'] = review_clusters.labels_\n"
     ]
    }
   ],
   "source": [
    "reviews_long['cluster'] = review_clusters.labels_"
   ]
  },
  {
   "cell_type": "code",
   "execution_count": 323,
   "metadata": {},
   "outputs": [
    {
     "name": "stderr",
     "output_type": "stream",
     "text": [
      "C:\\Users\\nicho\\AppData\\Local\\Temp\\ipykernel_34424\\231787998.py:5: SettingWithCopyWarning: \n",
      "A value is trying to be set on a copy of a slice from a DataFrame.\n",
      "Try using .loc[row_indexer,col_indexer] = value instead\n",
      "\n",
      "See the caveats in the documentation: https://pandas.pydata.org/pandas-docs/stable/user_guide/indexing.html#returning-a-view-versus-a-copy\n",
      "  reviews_long['vader_compound'] = reviews_long['sentiment'].apply(lambda x: retrieve_compound(x))\n"
     ]
    }
   ],
   "source": [
    "def retrieve_compound(dict):\n",
    "    score = dict.get('compound')\n",
    "    return score\n",
    "\n",
    "reviews_long['vader_compound'] = reviews_long['sentiment'].apply(lambda x: retrieve_compound(x))"
   ]
  },
  {
   "cell_type": "code",
   "execution_count": 325,
   "metadata": {},
   "outputs": [],
   "source": [
    "cluster_groups = reviews_long.groupby('cluster')\n",
    "\n",
    "sample_counts = cluster_groups.size().rename('counts')\n",
    "\n",
    "avg_vader = cluster_groups['vader_compound'].mean().rename('vader_compound')\n",
    "\n",
    "cluster_df = pd.concat([sample_counts,avg_vader], axis=1)"
   ]
  },
  {
   "cell_type": "code",
   "execution_count": 347,
   "metadata": {},
   "outputs": [],
   "source": [
    "# cluster_df.sort_values(by=['vader_compound'])"
   ]
  },
  {
   "cell_type": "code",
   "execution_count": 1,
   "metadata": {},
   "outputs": [
    {
     "ename": "NameError",
     "evalue": "name 'reviews_long' is not defined",
     "output_type": "error",
     "traceback": [
      "\u001b[1;31m---------------------------------------------------------------------------\u001b[0m",
      "\u001b[1;31mNameError\u001b[0m                                 Traceback (most recent call last)",
      "\u001b[1;32mc:\\Users\\nicho\\RIT\\DSCI-799\\project_code\\model_process.ipynb Cell 52\u001b[0m line \u001b[0;36m1\n\u001b[1;32m----> <a href='vscode-notebook-cell:/c%3A/Users/nicho/RIT/DSCI-799/project_code/model_process.ipynb#Y156sZmlsZQ%3D%3D?line=0'>1</a>\u001b[0m docs \u001b[39m=\u001b[39m reviews_long\u001b[39m.\u001b[39mloc[reviews_long[\u001b[39m'\u001b[39m\u001b[39mcluster\u001b[39m\u001b[39m'\u001b[39m] \u001b[39m==\u001b[39m \u001b[39m47\u001b[39m][\u001b[39m'\u001b[39m\u001b[39mreviewText_clean\u001b[39m\u001b[39m'\u001b[39m]\n\u001b[0;32m      <a href='vscode-notebook-cell:/c%3A/Users/nicho/RIT/DSCI-799/project_code/model_process.ipynb#Y156sZmlsZQ%3D%3D?line=2'>3</a>\u001b[0m \u001b[39mwith\u001b[39;00m \u001b[39mopen\u001b[39m(\u001b[39m'\u001b[39m\u001b[39m../project_data/cluster.txt\u001b[39m\u001b[39m'\u001b[39m, \u001b[39m'\u001b[39m\u001b[39mw\u001b[39m\u001b[39m'\u001b[39m) \u001b[39mas\u001b[39;00m file:\n\u001b[0;32m      <a href='vscode-notebook-cell:/c%3A/Users/nicho/RIT/DSCI-799/project_code/model_process.ipynb#Y156sZmlsZQ%3D%3D?line=3'>4</a>\u001b[0m     \u001b[39mfor\u001b[39;00m doc \u001b[39min\u001b[39;00m docs:\n",
      "\u001b[1;31mNameError\u001b[0m: name 'reviews_long' is not defined"
     ]
    }
   ],
   "source": [
    "docs = reviews_long.loc[reviews_long['cluster'] == 47]['reviewText_clean']\n",
    "\n",
    "with open('../project_data/cluster.txt', 'w') as file:\n",
    "    for doc in docs:\n",
    "        file.write(doc+'\\n')"
   ]
  },
  {
   "cell_type": "code",
   "execution_count": 349,
   "metadata": {},
   "outputs": [],
   "source": [
    "max_clusters = 100\n",
    "min_clusters=5\n",
    "best_clusters = 0"
   ]
  },
  {
   "cell_type": "code",
   "execution_count": 350,
   "metadata": {},
   "outputs": [
    {
     "name": "stderr",
     "output_type": "stream",
     "text": [
      "c:\\Users\\nicho\\anaconda3\\Lib\\site-packages\\sklearn\\cluster\\_kmeans.py:1412: FutureWarning: The default value of `n_init` will change from 10 to 'auto' in 1.4. Set the value of `n_init` explicitly to suppress the warning\n",
      "  super()._check_params_vs_input(X, default_n_init=10)\n",
      "c:\\Users\\nicho\\anaconda3\\Lib\\site-packages\\sklearn\\cluster\\_kmeans.py:1412: FutureWarning: The default value of `n_init` will change from 10 to 'auto' in 1.4. Set the value of `n_init` explicitly to suppress the warning\n",
      "  super()._check_params_vs_input(X, default_n_init=10)\n",
      "c:\\Users\\nicho\\anaconda3\\Lib\\site-packages\\sklearn\\cluster\\_kmeans.py:1412: FutureWarning: The default value of `n_init` will change from 10 to 'auto' in 1.4. Set the value of `n_init` explicitly to suppress the warning\n",
      "  super()._check_params_vs_input(X, default_n_init=10)\n",
      "c:\\Users\\nicho\\anaconda3\\Lib\\site-packages\\sklearn\\cluster\\_kmeans.py:1412: FutureWarning: The default value of `n_init` will change from 10 to 'auto' in 1.4. Set the value of `n_init` explicitly to suppress the warning\n",
      "  super()._check_params_vs_input(X, default_n_init=10)\n",
      "c:\\Users\\nicho\\anaconda3\\Lib\\site-packages\\sklearn\\cluster\\_kmeans.py:1412: FutureWarning: The default value of `n_init` will change from 10 to 'auto' in 1.4. Set the value of `n_init` explicitly to suppress the warning\n",
      "  super()._check_params_vs_input(X, default_n_init=10)\n",
      "c:\\Users\\nicho\\anaconda3\\Lib\\site-packages\\sklearn\\cluster\\_kmeans.py:1412: FutureWarning: The default value of `n_init` will change from 10 to 'auto' in 1.4. Set the value of `n_init` explicitly to suppress the warning\n",
      "  super()._check_params_vs_input(X, default_n_init=10)\n",
      "c:\\Users\\nicho\\anaconda3\\Lib\\site-packages\\sklearn\\cluster\\_kmeans.py:1412: FutureWarning: The default value of `n_init` will change from 10 to 'auto' in 1.4. Set the value of `n_init` explicitly to suppress the warning\n",
      "  super()._check_params_vs_input(X, default_n_init=10)\n",
      "c:\\Users\\nicho\\anaconda3\\Lib\\site-packages\\sklearn\\cluster\\_kmeans.py:1412: FutureWarning: The default value of `n_init` will change from 10 to 'auto' in 1.4. Set the value of `n_init` explicitly to suppress the warning\n",
      "  super()._check_params_vs_input(X, default_n_init=10)\n",
      "c:\\Users\\nicho\\anaconda3\\Lib\\site-packages\\sklearn\\cluster\\_kmeans.py:1412: FutureWarning: The default value of `n_init` will change from 10 to 'auto' in 1.4. Set the value of `n_init` explicitly to suppress the warning\n",
      "  super()._check_params_vs_input(X, default_n_init=10)\n",
      "c:\\Users\\nicho\\anaconda3\\Lib\\site-packages\\sklearn\\cluster\\_kmeans.py:1412: FutureWarning: The default value of `n_init` will change from 10 to 'auto' in 1.4. Set the value of `n_init` explicitly to suppress the warning\n",
      "  super()._check_params_vs_input(X, default_n_init=10)\n"
     ]
    },
    {
     "ename": "KeyboardInterrupt",
     "evalue": "",
     "output_type": "error",
     "traceback": [
      "\u001b[1;31m---------------------------------------------------------------------------\u001b[0m",
      "\u001b[1;31mKeyboardInterrupt\u001b[0m                         Traceback (most recent call last)",
      "File \u001b[1;32m<__array_function__ internals>:177\u001b[0m, in \u001b[0;36mwhere\u001b[1;34m(*args, **kwargs)\u001b[0m\n",
      "\u001b[1;31mKeyboardInterrupt\u001b[0m: "
     ]
    },
    {
     "name": "stderr",
     "output_type": "stream",
     "text": [
      "Exception ignored in: 'sklearn.cluster._k_means_common._relocate_empty_clusters_dense'\n",
      "Traceback (most recent call last):\n",
      "  File \"<__array_function__ internals>\", line 177, in where\n",
      "KeyboardInterrupt: \n"
     ]
    }
   ],
   "source": [
    "from sklearn.cluster import KMeans\n",
    "from sklearn.metrics import silhouette_score\n",
    "# Determine optimal number of clusters using silhouette coefficient\n",
    "best_score = -1\n",
    "scoreList = {}\n",
    "bestRandomSeed = -1\n",
    "count_dict = {}\n",
    "def increment_count(key):\n",
    "    if key in count_dict:\n",
    "        count_dict[key] += 1\n",
    "    else:\n",
    "        count_dict[key] = 1\n",
    "\n",
    "for randomSeed in range(0,1):#ran 50 to test\n",
    "    bestSeedScore=-1\n",
    "    bestCluster=-1\n",
    "    for n_clusters in range(min_clusters, max_clusters+1):\n",
    "        # Create a KMeans model with the current number of clusters\n",
    "        kmeans = KMeans(n_clusters=n_clusters, random_state=randomSeed)\n",
    "        \n",
    "        # Fit the KMeans model to the TF-IDF features\n",
    "        kmeans.fit(embedding_array)\n",
    "        \n",
    "        # Predict the cluster labels for the TF-IDF features\n",
    "        labels = kmeans.labels_\n",
    "        \n",
    "        # Calculate the silhouette score for the clustering result\n",
    "        score = silhouette_score(embedding_array, labels)\n",
    "        scoreList[n_clusters]=score\n",
    "        # Update the best score and number of clusters if necessary\n",
    "        if score > bestSeedScore:\n",
    "            bestSeedScore=score\n",
    "            bestCluster=n_clusters\n",
    "        if score > best_score:\n",
    "            bestRandomSeed = randomSeed\n",
    "            best_score = score\n",
    "            best_clusters = n_clusters\n",
    "    increment_count(bestCluster)\n",
    "        \n",
    "\n",
    "# Print the optimal number of clusters\n",
    "print(\"Optimal number of clusters:\", best_clusters)\n",
    "\n",
    "# Perform clustering with the optimal number of clusters\n",
    "kmeans = KMeans(n_clusters=best_clusters, random_state=bestRandomSeed)\n",
    "kmeans.fit(embedding_array)\n",
    "\n",
    "# Get the cluster labels for each document\n",
    "cluster_labels = kmeans.labels_\n",
    "\n",
    "# Add the cluster labels to the DataFrame\n",
    "reviews_long['cluster'] = cluster_labels\n",
    "\n",
    "# Display the resulting DataFrame\n",
    "print(scoreList)"
   ]
  },
  {
   "cell_type": "code",
   "execution_count": null,
   "metadata": {},
   "outputs": [],
   "source": []
  }
 ],
 "metadata": {
  "kernelspec": {
   "display_name": "Python 3",
   "language": "python",
   "name": "python3"
  },
  "language_info": {
   "codemirror_mode": {
    "name": "ipython",
    "version": 3
   },
   "file_extension": ".py",
   "mimetype": "text/x-python",
   "name": "python",
   "nbconvert_exporter": "python",
   "pygments_lexer": "ipython3",
   "version": "3.11.5"
  }
 },
 "nbformat": 4,
 "nbformat_minor": 2
}
