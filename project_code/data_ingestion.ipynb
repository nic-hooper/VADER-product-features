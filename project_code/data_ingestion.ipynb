{
 "cells": [
  {
   "cell_type": "code",
   "execution_count": 7,
   "metadata": {},
   "outputs": [],
   "source": [
    "# imports to open and store the json datasets into mongodb\n",
    "\n",
    "import json\n",
    "import gzip\n",
    "from pymongo import MongoClient"
   ]
  },
  {
   "cell_type": "code",
   "execution_count": 1,
   "metadata": {},
   "outputs": [],
   "source": [
    "# establishing connection to mongodb and database\n",
    "client = \"mongodb://localhost:27017\"\n",
    "database = \"products\""
   ]
  },
  {
   "cell_type": "code",
   "execution_count": 35,
   "metadata": {},
   "outputs": [],
   "source": [
    "# function to read and load the gzip json files into mongodb\n",
    "\n",
    "def mongodb_insert(client, database, collection, input_file):\n",
    "    # connect to MongoDB\n",
    "    client = MongoClient(client)\n",
    "    db = client[database]\n",
    "    collection = db[collection]\n",
    "\n",
    "    # doc counter\n",
    "    count = 0\n",
    "\n",
    "    # open the gzipped json file\n",
    "    with gzip.open(input_file) as file:\n",
    "        for line in file:\n",
    "            try:\n",
    "                # parse each line of JSON and insert into MongoDB\n",
    "                data = json.loads(line.strip())\n",
    "                collection.insert_one(data)\n",
    "                count +=1\n",
    "            except Exception as e:\n",
    "                print(f\"Error inserting data into MongoDB: {e}\")\n",
    "\n",
    "    # close the connection\n",
    "    client.close()\n",
    "    print(\"inserted\", count, \"docs\")"
   ]
  },
  {
   "cell_type": "code",
   "execution_count": 97,
   "metadata": {},
   "outputs": [
    {
     "name": "stdout",
     "output_type": "stream",
     "text": [
      "inserted 1300540 docs\n"
     ]
    }
   ],
   "source": [
    "# inserting product metadata\n",
    "\n",
    "collection = \"metadata\"\n",
    "input_file = \"../project_data/meta_Home_and_Kitchen.json.gz\"\n",
    "# mongodb_insert(client, database, collection, input_file)"
   ]
  },
  {
   "cell_type": "code",
   "execution_count": 36,
   "metadata": {},
   "outputs": [
    {
     "name": "stdout",
     "output_type": "stream",
     "text": [
      "inserted 21928568 docs\n"
     ]
    }
   ],
   "source": [
    "# inserting product review data\n",
    "collection = \"reviews\"\n",
    "input_file = \"../project_data/Home_and_Kitchen.json.gz\"\n",
    "mongodb_insert(client, database, collection, input_file)"
   ]
  },
  {
   "cell_type": "code",
   "execution_count": 17,
   "metadata": {},
   "outputs": [],
   "source": [
    "# function for performing a substring query on the database\n",
    "\n",
    "def mongodb_substring_query(client, database, collection, substring, query, projection):\n",
    "    client = MongoClient(client)\n",
    "    db = client[database]\n",
    "    collection = db[collection]\n",
    "    result_list = []\n",
    "\n",
    "    result = collection.find(query,projection)\n",
    "\n",
    "    for item in result:\n",
    "        result_list.append(item)\n",
    "    \n",
    "    client.close()\n",
    "    return result_list"
   ]
  },
  {
   "cell_type": "code",
   "execution_count": 18,
   "metadata": {},
   "outputs": [],
   "source": [
    "# querying the metadata for items in the category of desk chairs and retreiving asin (ID#)\n",
    "\n",
    "collection = \"metadata\"\n",
    "substring = \"desk chairs\"\n",
    "\n",
    "query = {\"category\":{\"$elemMatch\":{\"$regex\":substring, \"$options\":\"i\"}}}\n",
    "projection = {\"_id\":0, \"asin\":1}\n",
    "\n",
    "asin_list = mongodb_substring_query(client, database, collection, substring, query, projection)"
   ]
  },
  {
   "cell_type": "code",
   "execution_count": 21,
   "metadata": {},
   "outputs": [
    {
     "data": {
      "text/plain": [
       "2088"
      ]
     },
     "execution_count": 21,
     "metadata": {},
     "output_type": "execute_result"
    }
   ],
   "source": [
    "len(asin_list)"
   ]
  },
  {
   "cell_type": "code",
   "execution_count": 22,
   "metadata": {},
   "outputs": [],
   "source": [
    "# converting dict values to strings\n",
    "asins = [item['asin'] for item in asin_list]\n",
    "\n",
    "# storing the asin list in a text file\n",
    "with open('../project_data/asin_list.txt', 'w') as file:\n",
    "    for value in asins:\n",
    "        file.write(value+'\\n')"
   ]
  },
  {
   "cell_type": "code",
   "execution_count": 38,
   "metadata": {},
   "outputs": [],
   "source": [
    "# reading in the stored asin values\n",
    "asin_list = []\n",
    "with open('asin_list.txt', 'r') as file:\n",
    "    for line in file:\n",
    "        asin_list.append(line.strip())"
   ]
  },
  {
   "cell_type": "code",
   "execution_count": 30,
   "metadata": {},
   "outputs": [],
   "source": [
    "# function to create index on the asin field in the metadata collection\n",
    "\n",
    "def mongodb_create_index(client, database, collection, index_field):\n",
    "    client = MongoClient(client)\n",
    "    db = client[database]\n",
    "    collection = db[collection]\n",
    "\n",
    "    collection.create_index((index_field))\n",
    "\n",
    "    client.close()"
   ]
  },
  {
   "cell_type": "code",
   "execution_count": 31,
   "metadata": {},
   "outputs": [],
   "source": [
    "# creating index on asin field in mongodb metadata collection\n",
    "\n",
    "collection=\"metadata\"\n",
    "index_field = \"asin\"\n",
    "\n",
    "mongodb_create_index(client, database, collection, index_field)"
   ]
  },
  {
   "cell_type": "code",
   "execution_count": 37,
   "metadata": {},
   "outputs": [],
   "source": [
    "# creating index on asin field in mongodb metadata collection\n",
    "\n",
    "collection=\"reviews\"\n",
    "index_field = \"asin\"\n",
    "\n",
    "mongodb_create_index(client, database, collection, index_field)"
   ]
  },
  {
   "cell_type": "code",
   "execution_count": 40,
   "metadata": {},
   "outputs": [],
   "source": [
    "# import pandas\n",
    "import pandas as pd"
   ]
  },
  {
   "cell_type": "code",
   "execution_count": 44,
   "metadata": {},
   "outputs": [],
   "source": [
    "# function for performing a substring query on the database\n",
    "\n",
    "def mongodb_asin_query(client, database, collection, asin_list):\n",
    "    client = MongoClient(client)\n",
    "    db = client[database]\n",
    "    collection = db[collection]\n",
    "\n",
    "    output = []\n",
    "    count = 0\n",
    "\n",
    "    result = collection.find({\"asin\":{\"$in\": asin_list}})\n",
    "\n",
    "    for item in result:\n",
    "        output.append(item)\n",
    "        count +=1\n",
    "        \n",
    "    client.close()\n",
    "    return output\n",
    "    print(\"retrieved\", count, \"docs\")"
   ]
  },
  {
   "cell_type": "code",
   "execution_count": 48,
   "metadata": {},
   "outputs": [],
   "source": [
    "# collecting desired products from products collection\n",
    "\n",
    "collection = \"metadata\"\n",
    "df = pd.DataFrame(mongodb_asin_query(client, database, collection, asin_list))"
   ]
  },
  {
   "cell_type": "code",
   "execution_count": 53,
   "metadata": {},
   "outputs": [],
   "source": [
    "# save as csv\n",
    "df = df.loc[:,['asin','title','description','brand','date','price']]\n",
    "df.to_csv(\"../project_data/products.csv\")"
   ]
  },
  {
   "cell_type": "code",
   "execution_count": 54,
   "metadata": {},
   "outputs": [],
   "source": [
    "# collect corresponding reviews for products from reviews collection\n",
    "\n",
    "collection = \"reviews\"\n",
    "df = pd.DataFrame(mongodb_asin_query(client, database, collection, asin_list))"
   ]
  },
  {
   "cell_type": "code",
   "execution_count": 57,
   "metadata": {},
   "outputs": [],
   "source": [
    "# save to csv\n",
    "df = df.loc[:,['asin','reviewerID','overall','summary','reviewText']]\n",
    "df.to_csv(\"../project_data/reviews.csv\")"
   ]
  },
  {
   "cell_type": "code",
   "execution_count": null,
   "metadata": {},
   "outputs": [],
   "source": []
  }
 ],
 "metadata": {
  "kernelspec": {
   "display_name": "Python 3",
   "language": "python",
   "name": "python3"
  },
  "language_info": {
   "codemirror_mode": {
    "name": "ipython",
    "version": 3
   },
   "file_extension": ".py",
   "mimetype": "text/x-python",
   "name": "python",
   "nbconvert_exporter": "python",
   "pygments_lexer": "ipython3",
   "version": "3.11.6"
  },
  "orig_nbformat": 4
 },
 "nbformat": 4,
 "nbformat_minor": 2
}
